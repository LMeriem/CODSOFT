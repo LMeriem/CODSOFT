{
  "nbformat": 4,
  "nbformat_minor": 0,
  "metadata": {
    "colab": {
      "provenance": [],
      "gpuType": "T4"
    },
    "kernelspec": {
      "name": "python3",
      "display_name": "Python 3"
    },
    "language_info": {
      "name": "python"
    },
    "accelerator": "GPU"
  },
  "cells": [
    {
      "cell_type": "code",
      "execution_count": 2,
      "metadata": {
        "id": "xh-PAK9Z5nsl"
      },
      "outputs": [],
      "source": [
        "import pandas as pd\n",
        "import re\n",
        "from sklearn.model_selection import train_test_split\n",
        "from sklearn.feature_extraction.text import TfidfVectorizer\n",
        "from sklearn.linear_model import LogisticRegression\n",
        "from sklearn.svm import SVC\n",
        "from sklearn.metrics import accuracy_score, classification_report"
      ]
    },
    {
      "cell_type": "code",
      "source": [
        "# Load and preprocess data\n",
        "def load_data(file_path):\n",
        "    data = []\n",
        "    with open(file_path, 'r', encoding='utf-8') as f:\n",
        "        for line in f:\n",
        "            parts = line.strip().split(\" ::: \")\n",
        "            if len(parts) == 4:\n",
        "                movie_id, title, genre, plot = parts\n",
        "                data.append((genre, plot))\n",
        "    df = pd.DataFrame(data, columns=[\"genre\", \"plot\"])\n",
        "    return df\n",
        "\n",
        "train_data = load_data(\"train_data.txt\")\n",
        "test_data = load_data(\"test_data_solution.txt\")"
      ],
      "metadata": {
        "id": "lalQhqDGYoxt"
      },
      "execution_count": 3,
      "outputs": []
    },
    {
      "cell_type": "code",
      "source": [
        "# Text preprocessing (optional step for cleaning)\n",
        "def preprocess_text(text):\n",
        "    text = text.lower()  # Lowercase\n",
        "    text = re.sub(r'[^a-zA-Z\\s]', '', text)  # Remove special characters\n",
        "    text = re.sub(r'\\s+', ' ', text)  # Remove extra spaces\n",
        "    return text\n",
        "\n",
        "train_data['plot'] = train_data['plot'].apply(preprocess_text)\n",
        "test_data['plot'] = test_data['plot'].apply(preprocess_text)"
      ],
      "metadata": {
        "id": "sOcgHJ8nYv3T"
      },
      "execution_count": 4,
      "outputs": []
    },
    {
      "cell_type": "code",
      "source": [
        "# Split train/test sets\n",
        "X_train, X_val, y_train, y_val = train_test_split(\n",
        "    train_data['plot'], train_data['genre'], test_size=0.2, random_state=42)"
      ],
      "metadata": {
        "id": "pZYgGUcVY3Rw"
      },
      "execution_count": 5,
      "outputs": []
    },
    {
      "cell_type": "code",
      "source": [
        "# TF-IDF feature extraction\n",
        "tfidf = TfidfVectorizer(max_features=5000)\n",
        "X_train_tfidf = tfidf.fit_transform(X_train)\n",
        "X_val_tfidf = tfidf.transform(X_val)\n",
        "X_test_tfidf = tfidf.transform(test_data['plot'])"
      ],
      "metadata": {
        "id": "Qsxgxzp0bCC4"
      },
      "execution_count": 6,
      "outputs": []
    },
    {
      "cell_type": "code",
      "source": [
        "# Model training and evaluation function\n",
        "def train_and_evaluate(model, X_train, y_train, X_val, y_val):\n",
        "    model.fit(X_train, y_train)\n",
        "    y_pred = model.predict(X_val)\n",
        "    print(f\"Accuracy: {accuracy_score(y_val, y_pred)}\")\n",
        "    print(classification_report(y_val, y_pred, zero_division=0))"
      ],
      "metadata": {
        "id": "tljSPgDjbFeW"
      },
      "execution_count": 7,
      "outputs": []
    },
    {
      "cell_type": "code",
      "source": [
        "# Logistic Regression\n",
        "print(\"Logistic Regression Results:\")\n",
        "lr_model = LogisticRegression(max_iter=200, class_weight='balanced')\n",
        "train_and_evaluate(lr_model, X_train_tfidf, y_train, X_val_tfidf, y_val)"
      ],
      "metadata": {
        "colab": {
          "base_uri": "https://localhost:8080/"
        },
        "id": "rYNFRaIVbMwZ",
        "outputId": "e6de513b-2bcf-4f36-8c40-67104a8dda25"
      },
      "execution_count": 8,
      "outputs": [
        {
          "output_type": "stream",
          "name": "stdout",
          "text": [
            "Logistic Regression Results:\n",
            "Accuracy: 0.43017924135056274\n",
            "              precision    recall  f1-score   support\n",
            "\n",
            "      action       0.26      0.35      0.30       133\n",
            "       adult       0.25      0.64      0.36        50\n",
            "   adventure       0.22      0.29      0.25        77\n",
            "   animation       0.18      0.23      0.20        44\n",
            "   biography       0.04      0.12      0.06        26\n",
            "      comedy       0.55      0.35      0.43       678\n",
            "       crime       0.08      0.22      0.12        41\n",
            " documentary       0.75      0.60      0.67      1179\n",
            "       drama       0.66      0.34      0.45      1173\n",
            "      family       0.11      0.22      0.15        65\n",
            "     fantasy       0.06      0.10      0.07        31\n",
            "   game-show       0.62      0.76      0.68        17\n",
            "     history       0.02      0.13      0.04        15\n",
            "      horror       0.50      0.60      0.55       194\n",
            "       music       0.41      0.77      0.54        64\n",
            "     musical       0.15      0.33      0.20        21\n",
            "     mystery       0.10      0.27      0.15        26\n",
            "        news       0.19      0.38      0.26        13\n",
            "  reality-tv       0.26      0.55      0.36        77\n",
            "     romance       0.09      0.50      0.16        50\n",
            "      sci-fi       0.24      0.42      0.31        59\n",
            "       short       0.40      0.28      0.33       460\n",
            "       sport       0.29      0.70      0.41        37\n",
            "   talk-show       0.23      0.54      0.32        37\n",
            "    thriller       0.22      0.34      0.27       143\n",
            "         war       0.13      0.27      0.17        15\n",
            "     western       0.53      0.85      0.65        73\n",
            "\n",
            "    accuracy                           0.43      4798\n",
            "   macro avg       0.28      0.41      0.31      4798\n",
            "weighted avg       0.54      0.43      0.46      4798\n",
            "\n"
          ]
        }
      ]
    },
    {
      "cell_type": "code",
      "source": [
        "# Support Vector Machine\n",
        "print(\"SVM Results:\")\n",
        "svm_model = SVC(kernel='linear', class_weight='balanced')\n",
        "train_and_evaluate(svm_model, X_train_tfidf, y_train, X_val_tfidf, y_val)"
      ],
      "metadata": {
        "colab": {
          "base_uri": "https://localhost:8080/"
        },
        "id": "wSUHDG5-bUcX",
        "outputId": "c1cf570b-f243-4da7-ea72-2e91d3276c23"
      },
      "execution_count": 9,
      "outputs": [
        {
          "output_type": "stream",
          "name": "stdout",
          "text": [
            "SVM Results:\n",
            "Accuracy: 0.5037515631513131\n",
            "              precision    recall  f1-score   support\n",
            "\n",
            "      action       0.27      0.41      0.32       133\n",
            "       adult       0.43      0.58      0.50        50\n",
            "   adventure       0.23      0.23      0.23        77\n",
            "   animation       0.26      0.20      0.23        44\n",
            "   biography       0.00      0.00      0.00        26\n",
            "      comedy       0.50      0.47      0.49       678\n",
            "       crime       0.14      0.17      0.15        41\n",
            " documentary       0.73      0.72      0.72      1179\n",
            "       drama       0.62      0.47      0.54      1173\n",
            "      family       0.16      0.26      0.20        65\n",
            "     fantasy       0.08      0.03      0.05        31\n",
            "   game-show       1.00      0.65      0.79        17\n",
            "     history       0.10      0.07      0.08        15\n",
            "      horror       0.53      0.57      0.55       194\n",
            "       music       0.46      0.66      0.54        64\n",
            "     musical       0.33      0.19      0.24        21\n",
            "     mystery       0.15      0.12      0.13        26\n",
            "        news       0.62      0.38      0.48        13\n",
            "  reality-tv       0.29      0.42      0.34        77\n",
            "     romance       0.11      0.32      0.16        50\n",
            "      sci-fi       0.31      0.34      0.32        59\n",
            "       short       0.36      0.37      0.37       460\n",
            "       sport       0.37      0.51      0.43        37\n",
            "   talk-show       0.41      0.43      0.42        37\n",
            "    thriller       0.26      0.37      0.30       143\n",
            "         war       0.33      0.07      0.11        15\n",
            "     western       0.71      0.79      0.75        73\n",
            "\n",
            "    accuracy                           0.50      4798\n",
            "   macro avg       0.36      0.36      0.35      4798\n",
            "weighted avg       0.53      0.50      0.51      4798\n",
            "\n"
          ]
        }
      ]
    },
    {
      "cell_type": "code",
      "source": [
        "# Predict on test data with SVM (or use Logistic Regression if preferred)\n",
        "test_predictions = svm_model.predict(X_test_tfidf)\n",
        "test_data['predicted_genre'] = test_predictions"
      ],
      "metadata": {
        "id": "18vFVy2RbYKV"
      },
      "execution_count": 10,
      "outputs": []
    },
    {
      "cell_type": "code",
      "source": [
        "# Evaluate test predictions\n",
        "print(\"\\nTest Data Results:\")\n",
        "print(f\"Accuracy: {accuracy_score(test_data['genre'], test_predictions)}\")\n",
        "print(classification_report(test_data['genre'], test_predictions, zero_division=0))"
      ],
      "metadata": {
        "colab": {
          "base_uri": "https://localhost:8080/"
        },
        "id": "BRpkjor6g86-",
        "outputId": "002d3ae0-d1c4-419e-f11d-cd524d4d838f"
      },
      "execution_count": 12,
      "outputs": [
        {
          "output_type": "stream",
          "name": "stdout",
          "text": [
            "\n",
            "Test Data Results:\n",
            "Accuracy: 0.5076923076923077\n",
            "              precision    recall  f1-score   support\n",
            "\n",
            "      action       0.27      0.42      0.33       607\n",
            "       adult       0.35      0.51      0.41       254\n",
            "   adventure       0.22      0.29      0.25       333\n",
            "   animation       0.25      0.17      0.20       247\n",
            "   biography       0.06      0.02      0.03       106\n",
            "      comedy       0.52      0.50      0.51      3288\n",
            "       crime       0.14      0.15      0.14       222\n",
            " documentary       0.73      0.71      0.72      5843\n",
            "       drama       0.64      0.48      0.55      6100\n",
            "      family       0.15      0.22      0.18       340\n",
            "     fantasy       0.14      0.09      0.11       141\n",
            "   game-show       0.81      0.56      0.66        84\n",
            "     history       0.10      0.06      0.07       105\n",
            "      horror       0.53      0.58      0.56       969\n",
            "       music       0.42      0.65      0.51       343\n",
            "     musical       0.09      0.05      0.06       107\n",
            "     mystery       0.23      0.10      0.14       146\n",
            "        news       0.36      0.21      0.27        94\n",
            "  reality-tv       0.27      0.47      0.34       387\n",
            "     romance       0.13      0.34      0.19       295\n",
            "      sci-fi       0.38      0.41      0.39       288\n",
            "       short       0.39      0.39      0.39      2274\n",
            "       sport       0.45      0.50      0.48       190\n",
            "   talk-show       0.33      0.38      0.35       164\n",
            "    thriller       0.20      0.31      0.25       683\n",
            "         war       0.19      0.15      0.17        67\n",
            "     western       0.76      0.80      0.78       438\n",
            "\n",
            "    accuracy                           0.51     24115\n",
            "   macro avg       0.34      0.35      0.33     24115\n",
            "weighted avg       0.54      0.51      0.52     24115\n",
            "\n"
          ]
        }
      ]
    },
    {
      "cell_type": "code",
      "source": [
        "# Save predictions\n",
        "test_data.to_csv(\"predicted_test_data.csv\", index=False)"
      ],
      "metadata": {
        "id": "rQSLE0swgnzG"
      },
      "execution_count": 11,
      "outputs": []
    }
  ]
}